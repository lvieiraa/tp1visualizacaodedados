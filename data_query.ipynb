{
 "cells": [
  {
   "cell_type": "code",
   "execution_count": 1,
   "metadata": {},
   "outputs": [],
   "source": [
    "import pyspark\n",
    "sc = pyspark.SparkContext('local[*]')\n",
    "##Run just one time"
   ]
  },
  {
   "cell_type": "code",
   "execution_count": 2,
   "metadata": {},
   "outputs": [],
   "source": [
    "from IPython.display import display\n",
    "import matplotlib\n",
    "import matplotlib.pyplot as plt\n",
    "%matplotlib inline \n",
    "\n",
    "from pyspark.sql import SQLContext, Row\n",
    "sqlContext = SQLContext(sc)\n"
   ]
  },
  {
   "cell_type": "code",
   "execution_count": 44,
   "metadata": {},
   "outputs": [
    {
     "name": "stdout",
     "output_type": "stream",
     "text": [
      "graph.facebook.com\n",
      "www.facebook.com\n",
      "www.facebook.com\n",
      "www.facebook.com\n",
      "graph.facebook.com\n",
      "graph.facebook.com\n",
      "www.facebook.com\n",
      "graph.facebook.com\n",
      "edge-mqtt.facebook.com\n",
      "www.facebook.com\n"
     ]
    }
   ],
   "source": [
    "log_tcp_rdd = sc.textFile(\"/data/2018_03_27_21_complete\")\n",
    "#header = log_tcp_rdd.first()\n",
    "\n",
    "fields_rdd = log_tcp_rdd.map(lambda f: f.split(\" \"))\n",
    "data_set = fields_rdd.map(lambda f: Row(fqnd=f[126], tls=f[115], rexmit_byte_c=f[10]))\n",
    "\n",
    "\n",
    "schema_data = sqlContext.createDataFrame(data_set)\n",
    "schema_data.registerTempTable(\"data_set\")\n",
    "\n",
    "test = sqlContext.sql(\"SELECT  fqnd, tls FROM data_set WHERE fqnd REGEXP '.*facebook.com' LIMIT 10\")\n",
    "for each in test.collect():\n",
    "    print (each.fqnd)\n",
    "\n"
   ]
  },
  {
   "cell_type": "code",
   "execution_count": null,
   "metadata": {},
   "outputs": [],
   "source": []
  }
 ],
 "metadata": {
  "language_info": {
   "codemirror_mode": {
    "name": "ipython",
    "version": 3
   },
   "file_extension": ".py",
   "mimetype": "text/x-python",
   "name": "python",
   "nbconvert_exporter": "python",
   "pygments_lexer": "ipython3",
   "version": "3.7.3"
  }
 },
 "nbformat": 4,
 "nbformat_minor": 2
}
